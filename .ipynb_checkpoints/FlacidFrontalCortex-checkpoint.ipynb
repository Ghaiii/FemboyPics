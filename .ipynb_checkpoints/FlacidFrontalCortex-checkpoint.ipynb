{
 "cells": [
  {
   "cell_type": "code",
   "execution_count": null,
   "id": "4f6185c1",
   "metadata": {},
   "outputs": [],
   "source": [
    "px = int(input(\"enter the point px\"))\n",
    "py = int(input(\"enter the point py\"))\n",
    "qx = int(input(\"enter the point qx\"))\n",
    "qy = int(input(\"enter the point qy\"))\n",
    "rx = (qx - px) + qx\n",
    "ry = (qy - py) + qy\n",
    "r = (rx,ry)\n",
    "print(\"the point r is =\",r)"
   ]
  },
  {
   "cell_type": "code",
   "execution_count": null,
   "id": "1e6adedc",
   "metadata": {},
   "outputs": [],
   "source": []
  }
 ],
 "metadata": {
  "kernelspec": {
   "display_name": "Python 3 (ipykernel)",
   "language": "python",
   "name": "python3"
  },
  "language_info": {
   "codemirror_mode": {
    "name": "ipython",
    "version": 3
   },
   "file_extension": ".py",
   "mimetype": "text/x-python",
   "name": "python",
   "nbconvert_exporter": "python",
   "pygments_lexer": "ipython3",
   "version": "3.8.2"
  }
 },
 "nbformat": 4,
 "nbformat_minor": 5
}
