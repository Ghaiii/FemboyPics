{
 "cells": [
  {
   "cell_type": "code",
   "execution_count": 11,
   "id": "c88a556d",
   "metadata": {},
   "outputs": [
    {
     "name": "stdout",
     "output_type": "stream",
     "text": [
      "enter amount of bill 100\n",
      "enter number of people 2\n",
      "enter amount of tips 10\n",
      "5.0\n",
      "55.0\n"
     ]
    }
   ],
   "source": [
    "a=(\"amount_of_bill\")\n",
    "b=(\"number_of_people\")\n",
    "c=(\"amount_of_tips\")\n",
    "\n",
    "a= int(input(\"enter amount of bill \"))\n",
    "b= int(input(\"enter number of people \"))\n",
    "c= int(input(\"enter amount of tips \"))\n",
    "d = a/b*(c/100)\n",
    "tipamoun_person= print(d)\n",
    "tiptotal = print(d + (a/b))"
   ]
  },
  {
   "cell_type": "code",
   "execution_count": null,
   "id": "573569d0",
   "metadata": {},
   "outputs": [],
   "source": []
  }
 ],
 "metadata": {
  "kernelspec": {
   "display_name": "Python 3 (ipykernel)",
   "language": "python",
   "name": "python3"
  },
  "language_info": {
   "codemirror_mode": {
    "name": "ipython",
    "version": 3
   },
   "file_extension": ".py",
   "mimetype": "text/x-python",
   "name": "python",
   "nbconvert_exporter": "python",
   "pygments_lexer": "ipython3",
   "version": "3.8.2"
  }
 },
 "nbformat": 4,
 "nbformat_minor": 5
}
